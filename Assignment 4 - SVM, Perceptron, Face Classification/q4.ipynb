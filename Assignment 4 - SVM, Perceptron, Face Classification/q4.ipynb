{
 "cells": [
  {
   "cell_type": "markdown",
   "metadata": {},
   "source": [
    "### Pattern Recognition\n",
    "### Assignment 4  \n",
    "### COE19B007 - Praveen B R\n",
    "#### Question 4\n",
    "\n",
    "**Q4.)\n",
    "From the iris dataset, choose the ’petallength’, ’sepalwidth’ for setosa, versicolor and virginica flowers.  Learna decision boundary for the two features using asingle perceptron and SVM. Assume that all the weightsof the perceptron are initialized as 0 with the learning rate of 0.01.  Draw the decision boundary**"
   ]
  },
  {
   "cell_type": "code",
   "execution_count": 2,
   "metadata": {
    "executionInfo": {
     "elapsed": 1842,
     "status": "ok",
     "timestamp": 1619421699423,
     "user": {
      "displayName": "ABHINAND RAJAGOPAL ABHINAND RAJAGOPAL",
      "photoUrl": "",
      "userId": "03003957959191800560"
     },
     "user_tz": -330
    },
    "id": "X6m012OPbUB5"
   },
   "outputs": [],
   "source": [
    "import numpy as np\n",
    "import matplotlib.pyplot as plt\n",
    "import seaborn as sns\n",
    "import pandas as pd\n",
    "from cvxopt import matrix, solvers\n",
    "from sympy import *"
   ]
  },
  {
   "cell_type": "code",
   "execution_count": 4,
   "metadata": {
    "colab": {
     "base_uri": "https://localhost:8080/"
    },
    "executionInfo": {
     "elapsed": 1265,
     "status": "ok",
     "timestamp": 1619421747922,
     "user": {
      "displayName": "ABHINAND RAJAGOPAL ABHINAND RAJAGOPAL",
      "photoUrl": "",
      "userId": "03003957959191800560"
     },
     "user_tz": -330
    },
    "id": "ITq-gvQ2dXtj",
    "outputId": "4beed2f4-d668-43ff-9be4-63814ea8bb55"
   },
   "outputs": [
    {
     "data": {
      "text/html": [
       "<div>\n",
       "<style scoped>\n",
       "    .dataframe tbody tr th:only-of-type {\n",
       "        vertical-align: middle;\n",
       "    }\n",
       "\n",
       "    .dataframe tbody tr th {\n",
       "        vertical-align: top;\n",
       "    }\n",
       "\n",
       "    .dataframe thead th {\n",
       "        text-align: right;\n",
       "    }\n",
       "</style>\n",
       "<table border=\"1\" class=\"dataframe\">\n",
       "  <thead>\n",
       "    <tr style=\"text-align: right;\">\n",
       "      <th></th>\n",
       "      <th>Id</th>\n",
       "      <th>SepalLengthCm</th>\n",
       "      <th>SepalWidthCm</th>\n",
       "      <th>PetalLengthCm</th>\n",
       "      <th>PetalWidthCm</th>\n",
       "      <th>Species</th>\n",
       "    </tr>\n",
       "  </thead>\n",
       "  <tbody>\n",
       "    <tr>\n",
       "      <th>0</th>\n",
       "      <td>1</td>\n",
       "      <td>5.1</td>\n",
       "      <td>3.5</td>\n",
       "      <td>1.4</td>\n",
       "      <td>0.2</td>\n",
       "      <td>Iris-setosa</td>\n",
       "    </tr>\n",
       "    <tr>\n",
       "      <th>1</th>\n",
       "      <td>2</td>\n",
       "      <td>4.9</td>\n",
       "      <td>3.0</td>\n",
       "      <td>1.4</td>\n",
       "      <td>0.2</td>\n",
       "      <td>Iris-setosa</td>\n",
       "    </tr>\n",
       "    <tr>\n",
       "      <th>2</th>\n",
       "      <td>3</td>\n",
       "      <td>4.7</td>\n",
       "      <td>3.2</td>\n",
       "      <td>1.3</td>\n",
       "      <td>0.2</td>\n",
       "      <td>Iris-setosa</td>\n",
       "    </tr>\n",
       "    <tr>\n",
       "      <th>3</th>\n",
       "      <td>4</td>\n",
       "      <td>4.6</td>\n",
       "      <td>3.1</td>\n",
       "      <td>1.5</td>\n",
       "      <td>0.2</td>\n",
       "      <td>Iris-setosa</td>\n",
       "    </tr>\n",
       "    <tr>\n",
       "      <th>4</th>\n",
       "      <td>5</td>\n",
       "      <td>5.0</td>\n",
       "      <td>3.6</td>\n",
       "      <td>1.4</td>\n",
       "      <td>0.2</td>\n",
       "      <td>Iris-setosa</td>\n",
       "    </tr>\n",
       "  </tbody>\n",
       "</table>\n",
       "</div>"
      ],
      "text/plain": [
       "   Id  SepalLengthCm  SepalWidthCm  PetalLengthCm  PetalWidthCm      Species\n",
       "0   1            5.1           3.5            1.4           0.2  Iris-setosa\n",
       "1   2            4.9           3.0            1.4           0.2  Iris-setosa\n",
       "2   3            4.7           3.2            1.3           0.2  Iris-setosa\n",
       "3   4            4.6           3.1            1.5           0.2  Iris-setosa\n",
       "4   5            5.0           3.6            1.4           0.2  Iris-setosa"
      ]
     },
     "execution_count": 4,
     "metadata": {},
     "output_type": "execute_result"
    }
   ],
   "source": [
    "iris_dataset = pd.read_csv(\"data/Iris.csv\",index_col=False)\n",
    "iris_dataset.head()"
   ]
  },
  {
   "cell_type": "code",
   "execution_count": 5,
   "metadata": {
    "colab": {
     "base_uri": "https://localhost:8080/"
    },
    "executionInfo": {
     "elapsed": 1186,
     "status": "ok",
     "timestamp": 1619421750445,
     "user": {
      "displayName": "ABHINAND RAJAGOPAL ABHINAND RAJAGOPAL",
      "photoUrl": "",
      "userId": "03003957959191800560"
     },
     "user_tz": -330
    },
    "id": "yMNgfoOtd0Fb",
    "outputId": "a43f9b64-ab8f-4475-d56e-1c5a0dd6b022"
   },
   "outputs": [
    {
     "name": "stdout",
     "output_type": "stream",
     "text": [
      "      Id  SepalWidthCm  PetalLengthCm         Species\n",
      "0      1           3.5            1.4     Iris-setosa\n",
      "1      2           3.0            1.4     Iris-setosa\n",
      "2      3           3.2            1.3     Iris-setosa\n",
      "3      4           3.1            1.5     Iris-setosa\n",
      "4      5           3.6            1.4     Iris-setosa\n",
      "..   ...           ...            ...             ...\n",
      "145  146           3.0            5.2  Iris-virginica\n",
      "146  147           2.5            5.0  Iris-virginica\n",
      "147  148           3.0            5.2  Iris-virginica\n",
      "148  149           3.4            5.4  Iris-virginica\n",
      "149  150           3.0            5.1  Iris-virginica\n",
      "\n",
      "[150 rows x 4 columns]\n"
     ]
    }
   ],
   "source": [
    "iris_data = iris_dataset.drop(['SepalLengthCm','PetalWidthCm'], axis=1)\n",
    "print(iris_data)"
   ]
  },
  {
   "cell_type": "code",
   "execution_count": 18,
   "metadata": {
    "colab": {
     "base_uri": "https://localhost:8080/"
    },
    "executionInfo": {
     "elapsed": 899,
     "status": "ok",
     "timestamp": 1619421753474,
     "user": {
      "displayName": "ABHINAND RAJAGOPAL ABHINAND RAJAGOPAL",
      "photoUrl": "",
      "userId": "03003957959191800560"
     },
     "user_tz": -330
    },
    "id": "balsq1zueS3V",
    "outputId": "4a19c68b-5f83-475a-a98c-4f13e1174915"
   },
   "outputs": [
    {
     "name": "stdout",
     "output_type": "stream",
     "text": [
      "     Id  SepalWidthCm  PetalLengthCm          Species\n",
      "0     1           3.5            1.4      Iris-setosa\n",
      "1     2           3.0            1.4      Iris-setosa\n",
      "2     3           3.2            1.3      Iris-setosa\n",
      "3     4           3.1            1.5      Iris-setosa\n",
      "4     5           3.6            1.4      Iris-setosa\n",
      "..  ...           ...            ...              ...\n",
      "95   96           3.0            4.2  Iris-versicolor\n",
      "96   97           2.9            4.2  Iris-versicolor\n",
      "97   98           2.9            4.3  Iris-versicolor\n",
      "98   99           2.5            3.0  Iris-versicolor\n",
      "99  100           2.8            4.1  Iris-versicolor\n",
      "\n",
      "[100 rows x 4 columns]       Id  SepalWidthCm  PetalLengthCm         Species\n",
      "0      1           3.5            1.4     Iris-setosa\n",
      "1      2           3.0            1.4     Iris-setosa\n",
      "2      3           3.2            1.3     Iris-setosa\n",
      "3      4           3.1            1.5     Iris-setosa\n",
      "4      5           3.6            1.4     Iris-setosa\n",
      "..   ...           ...            ...             ...\n",
      "145  146           3.0            5.2  Iris-virginica\n",
      "146  147           2.5            5.0  Iris-virginica\n",
      "147  148           3.0            5.2  Iris-virginica\n",
      "148  149           3.4            5.4  Iris-virginica\n",
      "149  150           3.0            5.1  Iris-virginica\n",
      "\n",
      "[100 rows x 4 columns]       Id  SepalWidthCm  PetalLengthCm          Species\n",
      "50    51           3.2            4.7  Iris-versicolor\n",
      "51    52           3.2            4.5  Iris-versicolor\n",
      "52    53           3.1            4.9  Iris-versicolor\n",
      "53    54           2.3            4.0  Iris-versicolor\n",
      "54    55           2.8            4.6  Iris-versicolor\n",
      "..   ...           ...            ...              ...\n",
      "145  146           3.0            5.2   Iris-virginica\n",
      "146  147           2.5            5.0   Iris-virginica\n",
      "147  148           3.0            5.2   Iris-virginica\n",
      "148  149           3.4            5.4   Iris-virginica\n",
      "149  150           3.0            5.1   Iris-virginica\n",
      "\n",
      "[100 rows x 4 columns]\n"
     ]
    }
   ],
   "source": [
    "iris_data_12 = iris_data[iris_data['Species']!='Iris-virginica']\n",
    "iris_data_13 = iris_data[iris_data['Species']!='Iris-versicolor']\n",
    "iris_data_23 = iris_data[iris_data['Species']!='Iris-setosa']\n",
    "print(iris_data_12, iris_data_13, iris_data_23)"
   ]
  },
  {
   "cell_type": "code",
   "execution_count": 19,
   "metadata": {
    "colab": {
     "base_uri": "https://localhost:8080/"
    },
    "executionInfo": {
     "elapsed": 996,
     "status": "ok",
     "timestamp": 1619421756225,
     "user": {
      "displayName": "ABHINAND RAJAGOPAL ABHINAND RAJAGOPAL",
      "photoUrl": "",
      "userId": "03003957959191800560"
     },
     "user_tz": -330
    },
    "id": "3K1RvNxDjMbt",
    "outputId": "8d41dbf2-901b-476a-818d-d586f890dc67"
   },
   "outputs": [
    {
     "name": "stdout",
     "output_type": "stream",
     "text": [
      "     Id  SepalWidthCm  PetalLengthCm  var\n",
      "0     1           3.5            1.4    1\n",
      "1     2           3.0            1.4    1\n",
      "2     3           3.2            1.3    1\n",
      "3     4           3.1            1.5    1\n",
      "4     5           3.6            1.4    1\n",
      "..  ...           ...            ...  ...\n",
      "95   96           3.0            4.2   -1\n",
      "96   97           2.9            4.2   -1\n",
      "97   98           2.9            4.3   -1\n",
      "98   99           2.5            3.0   -1\n",
      "99  100           2.8            4.1   -1\n",
      "\n",
      "[100 rows x 4 columns]\n"
     ]
    },
    {
     "name": "stderr",
     "output_type": "stream",
     "text": [
      "/tmp/ipykernel_15378/56341886.py:7: SettingWithCopyWarning: \n",
      "A value is trying to be set on a copy of a slice from a DataFrame.\n",
      "Try using .loc[row_indexer,col_indexer] = value instead\n",
      "\n",
      "See the caveats in the documentation: https://pandas.pydata.org/pandas-docs/stable/user_guide/indexing.html#returning-a-view-versus-a-copy\n",
      "  iris_data_12['var'] = var\n"
     ]
    }
   ],
   "source": [
    "var=[]\n",
    "for i in range(len(iris_data_12)):\n",
    "    if iris_data_12['Species'].iloc[i]=='Iris-setosa':\n",
    "        var.append(1)\n",
    "    else:\n",
    "        var.append(-1)\n",
    "iris_data_12['var'] = var\n",
    "iris_data_12 = iris_data_12.drop(['Species'],axis=1)\n",
    "print(iris_data_12)"
   ]
  },
  {
   "cell_type": "code",
   "execution_count": 20,
   "metadata": {
    "colab": {
     "base_uri": "https://localhost:8080/"
    },
    "executionInfo": {
     "elapsed": 1051,
     "status": "ok",
     "timestamp": 1619421762149,
     "user": {
      "displayName": "ABHINAND RAJAGOPAL ABHINAND RAJAGOPAL",
      "photoUrl": "",
      "userId": "03003957959191800560"
     },
     "user_tz": -330
    },
    "id": "rD4yfBQBj-dV",
    "outputId": "3f21ab24-68a5-494d-9b62-b5cf2545c391"
   },
   "outputs": [
    {
     "name": "stdout",
     "output_type": "stream",
     "text": [
      "      Id  SepalWidthCm  PetalLengthCm  var\n",
      "0      1           3.5            1.4    1\n",
      "1      2           3.0            1.4    1\n",
      "2      3           3.2            1.3    1\n",
      "3      4           3.1            1.5    1\n",
      "4      5           3.6            1.4    1\n",
      "..   ...           ...            ...  ...\n",
      "145  146           3.0            5.2   -1\n",
      "146  147           2.5            5.0   -1\n",
      "147  148           3.0            5.2   -1\n",
      "148  149           3.4            5.4   -1\n",
      "149  150           3.0            5.1   -1\n",
      "\n",
      "[100 rows x 4 columns]\n"
     ]
    },
    {
     "name": "stderr",
     "output_type": "stream",
     "text": [
      "/tmp/ipykernel_15378/65265603.py:7: SettingWithCopyWarning: \n",
      "A value is trying to be set on a copy of a slice from a DataFrame.\n",
      "Try using .loc[row_indexer,col_indexer] = value instead\n",
      "\n",
      "See the caveats in the documentation: https://pandas.pydata.org/pandas-docs/stable/user_guide/indexing.html#returning-a-view-versus-a-copy\n",
      "  iris_data_13['var'] = var\n"
     ]
    }
   ],
   "source": [
    "var=[]\n",
    "for i in range(len(iris_data_13)):\n",
    "    if iris_data_13['Species'].iloc[i]=='Iris-setosa':\n",
    "        var.append(1)\n",
    "    else:\n",
    "        var.append(-1)\n",
    "iris_data_13['var'] = var\n",
    "iris_data_13 = iris_data_13.drop(['Species'],axis=1)\n",
    "print(iris_data_13)"
   ]
  },
  {
   "cell_type": "code",
   "execution_count": 21,
   "metadata": {
    "colab": {
     "base_uri": "https://localhost:8080/"
    },
    "executionInfo": {
     "elapsed": 991,
     "status": "ok",
     "timestamp": 1619421768568,
     "user": {
      "displayName": "ABHINAND RAJAGOPAL ABHINAND RAJAGOPAL",
      "photoUrl": "",
      "userId": "03003957959191800560"
     },
     "user_tz": -330
    },
    "id": "MZqZwJKhkpo_",
    "outputId": "1c6f789d-5c02-4b60-9c48-484bf62ce0a2"
   },
   "outputs": [
    {
     "name": "stdout",
     "output_type": "stream",
     "text": [
      "      Id  SepalWidthCm  PetalLengthCm  var\n",
      "50    51           3.2            4.7    1\n",
      "51    52           3.2            4.5    1\n",
      "52    53           3.1            4.9    1\n",
      "53    54           2.3            4.0    1\n",
      "54    55           2.8            4.6    1\n",
      "..   ...           ...            ...  ...\n",
      "145  146           3.0            5.2   -1\n",
      "146  147           2.5            5.0   -1\n",
      "147  148           3.0            5.2   -1\n",
      "148  149           3.4            5.4   -1\n",
      "149  150           3.0            5.1   -1\n",
      "\n",
      "[100 rows x 4 columns]\n"
     ]
    },
    {
     "name": "stderr",
     "output_type": "stream",
     "text": [
      "/tmp/ipykernel_15378/327251950.py:7: SettingWithCopyWarning: \n",
      "A value is trying to be set on a copy of a slice from a DataFrame.\n",
      "Try using .loc[row_indexer,col_indexer] = value instead\n",
      "\n",
      "See the caveats in the documentation: https://pandas.pydata.org/pandas-docs/stable/user_guide/indexing.html#returning-a-view-versus-a-copy\n",
      "  iris_data_23['var'] = var\n"
     ]
    }
   ],
   "source": [
    "var=[]\n",
    "for i in range(len(iris_data_23)):\n",
    "    if iris_data_23['Species'].iloc[i]=='Iris-versicolor':\n",
    "        var.append(1)\n",
    "    else:\n",
    "        var.append(-1)\n",
    "iris_data_23['var'] = var\n",
    "iris_data_23 = iris_data_23.drop(['Species'],axis=1)\n",
    "print(iris_data_23)"
   ]
  },
  {
   "cell_type": "markdown",
   "metadata": {
    "id": "a1uI7Zcni7oz"
   },
   "source": [
    "####  Perceptron"
   ]
  },
  {
   "cell_type": "code",
   "execution_count": 23,
   "metadata": {
    "colab": {
     "base_uri": "https://localhost:8080/"
    },
    "executionInfo": {
     "elapsed": 965,
     "status": "ok",
     "timestamp": 1619421772170,
     "user": {
      "displayName": "ABHINAND RAJAGOPAL ABHINAND RAJAGOPAL",
      "photoUrl": "",
      "userId": "03003957959191800560"
     },
     "user_tz": -330
    },
    "id": "srC3QyJBk3XM",
    "outputId": "f1ac7674-73ce-43c3-c32a-41f024d0165b"
   },
   "outputs": [],
   "source": [
    "data_aug_12 = pd.DataFrame(list(zip(iris_data_12['PetalLengthCm'],iris_data_12['SepalWidthCm'], [1 for i in range(len(iris_data_12))],iris_data_12['var'])), columns=['PetalLengthCm','SepalWidthCm','augment','var'])"
   ]
  },
  {
   "cell_type": "code",
   "execution_count": 24,
   "metadata": {
    "colab": {
     "base_uri": "https://localhost:8080/"
    },
    "executionInfo": {
     "elapsed": 980,
     "status": "ok",
     "timestamp": 1619421775049,
     "user": {
      "displayName": "ABHINAND RAJAGOPAL ABHINAND RAJAGOPAL",
      "photoUrl": "",
      "userId": "03003957959191800560"
     },
     "user_tz": -330
    },
    "id": "YkggI7L0lwqs",
    "outputId": "12488a64-e6c0-4d96-968a-3b26ed06b312"
   },
   "outputs": [],
   "source": [
    "data_aug_13 = pd.DataFrame(list(zip(iris_data_13['PetalLengthCm'],iris_data_13['SepalWidthCm'], [1 for i in range(len(iris_data_13))],iris_data_13['var'])), columns=['PetalLengthCm','SepalWidthCm','augment','var'])"
   ]
  },
  {
   "cell_type": "code",
   "execution_count": 27,
   "metadata": {
    "colab": {
     "base_uri": "https://localhost:8080/"
    },
    "executionInfo": {
     "elapsed": 903,
     "status": "ok",
     "timestamp": 1619421779134,
     "user": {
      "displayName": "ABHINAND RAJAGOPAL ABHINAND RAJAGOPAL",
      "photoUrl": "",
      "userId": "03003957959191800560"
     },
     "user_tz": -330
    },
    "id": "3h6rvOApl3lx",
    "outputId": "0d04aa01-8f3c-4219-e116-0ccfe5a56249"
   },
   "outputs": [],
   "source": [
    "data_aug_23 = pd.DataFrame(list(zip(iris_data_23['PetalLengthCm'],iris_data_23['SepalWidthCm'], [1 for i in range(len(iris_data_23))],iris_data_23['var'])), columns=['PetalLengthCm','SepalWidthCm','augment','var'])"
   ]
  },
  {
   "cell_type": "markdown",
   "metadata": {
    "id": "__HQPsnql8RC"
   },
   "source": [
    "**Splitting Features and Labels**"
   ]
  },
  {
   "cell_type": "code",
   "execution_count": 31,
   "metadata": {
    "executionInfo": {
     "elapsed": 657,
     "status": "ok",
     "timestamp": 1619421782383,
     "user": {
      "displayName": "ABHINAND RAJAGOPAL ABHINAND RAJAGOPAL",
      "photoUrl": "",
      "userId": "03003957959191800560"
     },
     "user_tz": -330
    },
    "id": "RL1YwmC8mSDt"
   },
   "outputs": [],
   "source": [
    "def split(data_aug):\n",
    "    data_up = data_aug.copy()\n",
    "    for i in range(len(data_up)):\n",
    "        if(data_up['var'][i] == 1):\n",
    "            data_up['PetalLengthCm'][i] = - data_up['PetalLengthCm'][i]\n",
    "            data_up['SepalWidthCm'][i] = -data_up['SepalWidthCm'][i]\n",
    "            data_up['augment'][i] = -data_up['augment'][i]\n",
    "    # print(data_up)\n",
    "    data_up = data_up.drop(['var'], axis=1)\n",
    "    data_up = np.array(data_up)\n",
    "    # print(data_up)\n",
    "\n",
    "    labels = data_aug['var']\n",
    "    labels = np.array(labels)\n",
    "    # print(labels)\n",
    "\n",
    "    return (data_up, labels)"
   ]
  },
  {
   "cell_type": "code",
   "execution_count": 32,
   "metadata": {
    "colab": {
     "base_uri": "https://localhost:8080/"
    },
    "executionInfo": {
     "elapsed": 996,
     "status": "ok",
     "timestamp": 1619421785309,
     "user": {
      "displayName": "ABHINAND RAJAGOPAL ABHINAND RAJAGOPAL",
      "photoUrl": "",
      "userId": "03003957959191800560"
     },
     "user_tz": -330
    },
    "id": "3GcVLcmdmtKr",
    "outputId": "2930c928-6e4d-4627-978e-1504d5bce498"
   },
   "outputs": [
    {
     "name": "stderr",
     "output_type": "stream",
     "text": [
      "/tmp/ipykernel_15378/3272425608.py:5: SettingWithCopyWarning: \n",
      "A value is trying to be set on a copy of a slice from a DataFrame\n",
      "\n",
      "See the caveats in the documentation: https://pandas.pydata.org/pandas-docs/stable/user_guide/indexing.html#returning-a-view-versus-a-copy\n",
      "  data_up['PetalLengthCm'][i] = - data_up['PetalLengthCm'][i]\n",
      "/tmp/ipykernel_15378/3272425608.py:6: SettingWithCopyWarning: \n",
      "A value is trying to be set on a copy of a slice from a DataFrame\n",
      "\n",
      "See the caveats in the documentation: https://pandas.pydata.org/pandas-docs/stable/user_guide/indexing.html#returning-a-view-versus-a-copy\n",
      "  data_up['SepalWidthCm'][i] = -data_up['SepalWidthCm'][i]\n",
      "/tmp/ipykernel_15378/3272425608.py:7: SettingWithCopyWarning: \n",
      "A value is trying to be set on a copy of a slice from a DataFrame\n",
      "\n",
      "See the caveats in the documentation: https://pandas.pydata.org/pandas-docs/stable/user_guide/indexing.html#returning-a-view-versus-a-copy\n",
      "  data_up['augment'][i] = -data_up['augment'][i]\n",
      "/tmp/ipykernel_15378/3272425608.py:5: SettingWithCopyWarning: \n",
      "A value is trying to be set on a copy of a slice from a DataFrame\n",
      "\n",
      "See the caveats in the documentation: https://pandas.pydata.org/pandas-docs/stable/user_guide/indexing.html#returning-a-view-versus-a-copy\n",
      "  data_up['PetalLengthCm'][i] = - data_up['PetalLengthCm'][i]\n",
      "/tmp/ipykernel_15378/3272425608.py:6: SettingWithCopyWarning: \n",
      "A value is trying to be set on a copy of a slice from a DataFrame\n",
      "\n",
      "See the caveats in the documentation: https://pandas.pydata.org/pandas-docs/stable/user_guide/indexing.html#returning-a-view-versus-a-copy\n",
      "  data_up['SepalWidthCm'][i] = -data_up['SepalWidthCm'][i]\n",
      "/tmp/ipykernel_15378/3272425608.py:7: SettingWithCopyWarning: \n",
      "A value is trying to be set on a copy of a slice from a DataFrame\n",
      "\n",
      "See the caveats in the documentation: https://pandas.pydata.org/pandas-docs/stable/user_guide/indexing.html#returning-a-view-versus-a-copy\n",
      "  data_up['augment'][i] = -data_up['augment'][i]\n",
      "/tmp/ipykernel_15378/3272425608.py:5: SettingWithCopyWarning: \n",
      "A value is trying to be set on a copy of a slice from a DataFrame\n",
      "\n",
      "See the caveats in the documentation: https://pandas.pydata.org/pandas-docs/stable/user_guide/indexing.html#returning-a-view-versus-a-copy\n",
      "  data_up['PetalLengthCm'][i] = - data_up['PetalLengthCm'][i]\n",
      "/tmp/ipykernel_15378/3272425608.py:6: SettingWithCopyWarning: \n",
      "A value is trying to be set on a copy of a slice from a DataFrame\n",
      "\n",
      "See the caveats in the documentation: https://pandas.pydata.org/pandas-docs/stable/user_guide/indexing.html#returning-a-view-versus-a-copy\n",
      "  data_up['SepalWidthCm'][i] = -data_up['SepalWidthCm'][i]\n",
      "/tmp/ipykernel_15378/3272425608.py:7: SettingWithCopyWarning: \n",
      "A value is trying to be set on a copy of a slice from a DataFrame\n",
      "\n",
      "See the caveats in the documentation: https://pandas.pydata.org/pandas-docs/stable/user_guide/indexing.html#returning-a-view-versus-a-copy\n",
      "  data_up['augment'][i] = -data_up['augment'][i]\n"
     ]
    }
   ],
   "source": [
    "data_up_12, labels_12 = split(data_aug_12) \n",
    "data_up_13, labels_13 = split(data_aug_13)\n",
    "data_up_23, labels_23 = split(data_aug_23)\n"
   ]
  },
  {
   "cell_type": "code",
   "execution_count": 36,
   "metadata": {
    "executionInfo": {
     "elapsed": 907,
     "status": "ok",
     "timestamp": 1619421797381,
     "user": {
      "displayName": "ABHINAND RAJAGOPAL ABHINAND RAJAGOPAL",
      "photoUrl": "",
      "userId": "03003957959191800560"
     },
     "user_tz": -330
    },
    "id": "aN4Apl50m_j3"
   },
   "outputs": [],
   "source": [
    "def Perceptron_Train(data_up, labels, eta):\n",
    "    \n",
    "    threshold = 5000\n",
    "    A = np.zeros(len(data_up[0]))\n",
    "\n",
    "    # print(A)\n",
    "\n",
    "    for epoch in range(threshold):\n",
    "        ctr = 0\n",
    "    \n",
    "        for inp, label in zip(data_up, labels):\n",
    "            summation = np.dot(inp, A)\n",
    "            if summation <= 0:\n",
    "                A += eta*inp\n",
    "                ctr = 0\n",
    "\n",
    "            else:\n",
    "                ctr+=1\n",
    "            \n",
    "        if ctr == len(data_up):     #Until all input is correctly classified\n",
    "            break\n",
    "    print(epoch)\n",
    "    return A\n"
   ]
  },
  {
   "cell_type": "code",
   "execution_count": 37,
   "metadata": {
    "colab": {
     "base_uri": "https://localhost:8080/"
    },
    "executionInfo": {
     "elapsed": 914,
     "status": "ok",
     "timestamp": 1619421816080,
     "user": {
      "displayName": "ABHINAND RAJAGOPAL ABHINAND RAJAGOPAL",
      "photoUrl": "",
      "userId": "03003957959191800560"
     },
     "user_tz": -330
    },
    "id": "xg6mLqJHoXOu",
    "outputId": "00da014b-111e-4629-e1a4-8726d4442c2d"
   },
   "outputs": [
    {
     "name": "stdout",
     "output_type": "stream",
     "text": [
      "[x1 x2 1]\n"
     ]
    }
   ],
   "source": [
    "x1, x2, b = symbols('x1 x2 1')\n",
    "P = np.array([x1,x2, b])\n",
    "print(P)"
   ]
  },
  {
   "cell_type": "code",
   "execution_count": 38,
   "metadata": {
    "colab": {
     "base_uri": "https://localhost:8080/"
    },
    "executionInfo": {
     "elapsed": 991,
     "status": "ok",
     "timestamp": 1619421819329,
     "user": {
      "displayName": "ABHINAND RAJAGOPAL ABHINAND RAJAGOPAL",
      "photoUrl": "",
      "userId": "03003957959191800560"
     },
     "user_tz": -330
    },
    "id": "if79wYYhnhZS",
    "outputId": "2f685258-02c8-45fc-e33b-bf77312a332a"
   },
   "outputs": [
    {
     "name": "stdout",
     "output_type": "stream",
     "text": [
      "3\n",
      "[ 0.052 -0.041 -0.01 ]\n"
     ]
    }
   ],
   "source": [
    "eta = 0.01\n",
    "A_12 = Perceptron_Train(data_up_12, labels_12, eta)\n",
    "print(A_12)"
   ]
  },
  {
   "cell_type": "code",
   "execution_count": 39,
   "metadata": {
    "colab": {
     "base_uri": "https://localhost:8080/"
    },
    "executionInfo": {
     "elapsed": 1115,
     "status": "ok",
     "timestamp": 1619421823487,
     "user": {
      "displayName": "ABHINAND RAJAGOPAL ABHINAND RAJAGOPAL",
      "photoUrl": "",
      "userId": "03003957959191800560"
     },
     "user_tz": -330
    },
    "id": "lhIhlPhlokow",
    "outputId": "5341004d-0b4f-491a-9676-4e7bf84baba4"
   },
   "outputs": [
    {
     "name": "stdout",
     "output_type": "stream",
     "text": [
      "Decision Boundary between Setosa and Versicolor:  -0.01*1 + 0.052*x1 - 0.041*x2  = 0\n"
     ]
    }
   ],
   "source": [
    "Percep_equation_12 = np.dot(A_12.T, P)\n",
    "print(\"Decision Boundary between Setosa and Versicolor: \", Percep_equation_12, ' = 0')"
   ]
  },
  {
   "cell_type": "code",
   "execution_count": 40,
   "metadata": {
    "colab": {
     "base_uri": "https://localhost:8080/"
    },
    "executionInfo": {
     "elapsed": 922,
     "status": "ok",
     "timestamp": 1619421833528,
     "user": {
      "displayName": "ABHINAND RAJAGOPAL ABHINAND RAJAGOPAL",
      "photoUrl": "",
      "userId": "03003957959191800560"
     },
     "user_tz": -330
    },
    "id": "v0UO4mMUoBkW",
    "outputId": "f54067c3-7302-4db8-e8ea-64177526754a"
   },
   "outputs": [
    {
     "name": "stdout",
     "output_type": "stream",
     "text": [
      "2\n",
      "[ 0.032 -0.037 -0.01 ]\n"
     ]
    }
   ],
   "source": [
    "eta = 0.01\n",
    "A_13 = Perceptron_Train(data_up_13, labels_13, eta)\n",
    "print(A_13)"
   ]
  },
  {
   "cell_type": "code",
   "execution_count": 41,
   "metadata": {
    "colab": {
     "base_uri": "https://localhost:8080/"
    },
    "executionInfo": {
     "elapsed": 1047,
     "status": "ok",
     "timestamp": 1619421836579,
     "user": {
      "displayName": "ABHINAND RAJAGOPAL ABHINAND RAJAGOPAL",
      "photoUrl": "",
      "userId": "03003957959191800560"
     },
     "user_tz": -330
    },
    "id": "zC2H-J7bo2L5",
    "outputId": "b3d2914a-8fee-4b4c-ffa3-31c211cd059d"
   },
   "outputs": [
    {
     "name": "stdout",
     "output_type": "stream",
     "text": [
      "Decision Boundary between Setosa and Virginica:  -0.01*1 + 0.032*x1 - 0.037*x2  = 0\n"
     ]
    }
   ],
   "source": [
    "Percep_equation_13 = np.dot(A_13.T, P)\n",
    "print(\"Decision Boundary between Setosa and Virginica: \", Percep_equation_13, ' = 0')"
   ]
  },
  {
   "cell_type": "code",
   "execution_count": 42,
   "metadata": {
    "colab": {
     "base_uri": "https://localhost:8080/"
    },
    "executionInfo": {
     "elapsed": 1963,
     "status": "ok",
     "timestamp": 1619421848810,
     "user": {
      "displayName": "ABHINAND RAJAGOPAL ABHINAND RAJAGOPAL",
      "photoUrl": "",
      "userId": "03003957959191800560"
     },
     "user_tz": -330
    },
    "id": "r5MNBMM1oJ5s",
    "outputId": "905d0456-073b-42e4-b04d-8d032fad0894"
   },
   "outputs": [
    {
     "name": "stdout",
     "output_type": "stream",
     "text": [
      "4999\n",
      "[ 1.296 -0.837 -3.43 ]\n"
     ]
    }
   ],
   "source": [
    "eta = 0.01\n",
    "A_23 = Perceptron_Train(data_up_23, labels_23, eta)\n",
    "print(A_23)"
   ]
  },
  {
   "cell_type": "code",
   "execution_count": 43,
   "metadata": {
    "colab": {
     "base_uri": "https://localhost:8080/"
    },
    "executionInfo": {
     "elapsed": 1051,
     "status": "ok",
     "timestamp": 1619421852610,
     "user": {
      "displayName": "ABHINAND RAJAGOPAL ABHINAND RAJAGOPAL",
      "photoUrl": "",
      "userId": "03003957959191800560"
     },
     "user_tz": -330
    },
    "id": "3AnVhA_RpHTc",
    "outputId": "73d1cf00-6320-4cdc-f450-810a76641a57"
   },
   "outputs": [
    {
     "name": "stdout",
     "output_type": "stream",
     "text": [
      "Decision Boundary between Versicolor and Virginica:  -3.42999999999997*1 + 1.29600000000016*x1 - 0.837*x2  = 0\n"
     ]
    }
   ],
   "source": [
    "Percep_equation_23 = np.dot(A_23.T, P)\n",
    "print(\"Decision Boundary between Versicolor and Virginica: \", Percep_equation_23, ' = 0')"
   ]
  },
  {
   "cell_type": "markdown",
   "metadata": {
    "id": "mDbG71o8pL6g"
   },
   "source": [
    "Plotting the Decision Boundary"
   ]
  },
  {
   "cell_type": "code",
   "execution_count": 52,
   "metadata": {
    "executionInfo": {
     "elapsed": 683,
     "status": "ok",
     "timestamp": 1619421855498,
     "user": {
      "displayName": "ABHINAND RAJAGOPAL ABHINAND RAJAGOPAL",
      "photoUrl": "",
      "userId": "03003957959191800560"
     },
     "user_tz": -330
    },
    "id": "g9a_QogopOah"
   },
   "outputs": [],
   "source": [
    "def plot_percep(A, data_aug):\n",
    "    a = np.linspace(-1,7,100)\n",
    "    b = -a*A[0]/A[1] - A[2]/A[1]\n",
    "    sns.lmplot(x='PetalLengthCm',y='SepalWidthCm', data=data_aug, fit_reg=False, hue='var', legend=True)\n",
    "    plt.plot(a,b)\n",
    "    plt.show()"
   ]
  },
  {
   "cell_type": "code",
   "execution_count": 53,
   "metadata": {
    "colab": {
     "base_uri": "https://localhost:8080/",
     "height": 380
    },
    "executionInfo": {
     "elapsed": 1727,
     "status": "ok",
     "timestamp": 1619421859145,
     "user": {
      "displayName": "ABHINAND RAJAGOPAL ABHINAND RAJAGOPAL",
      "photoUrl": "",
      "userId": "03003957959191800560"
     },
     "user_tz": -330
    },
    "id": "Xpdb9ae7sYZQ",
    "outputId": "b1b6db2b-c8bc-43bb-f00d-ec0a996cb8b7"
   },
   "outputs": [
    {
     "data": {
      "image/png": "[encoded data removed]",
      "text/plain": [
       "<Figure size 410.6x360 with 1 Axes>"
      ]
     },
     "metadata": {},
     "output_type": "display_data"
    }
   ],
   "source": [
    "plot_percep(A_12,data_aug_12)"
   ]
  },
  {
   "cell_type": "code",
   "execution_count": 54,
   "metadata": {
    "colab": {
     "base_uri": "https://localhost:8080/",
     "height": 382
    },
    "executionInfo": {
     "elapsed": 1545,
     "status": "ok",
     "timestamp": 1619421878880,
     "user": {
      "displayName": "ABHINAND RAJAGOPAL ABHINAND RAJAGOPAL",
      "photoUrl": "",
      "userId": "03003957959191800560"
     },
     "user_tz": -330
    },
    "id": "I7aGub-fsdog",
    "outputId": "f6c7f12d-6131-4446-d547-1e9f84fab04a"
   },
   "outputs": [
    {
     "data": {
      "image/png": "[encoded data removed]",
      "text/plain": [
       "<Figure size 410.6x360 with 1 Axes>"
      ]
     },
     "metadata": {},
     "output_type": "display_data"
    }
   ],
   "source": [
    "plot_percep(A_23,data_aug_23)"
   ]
  },
  {
   "cell_type": "code",
   "execution_count": 55,
   "metadata": {
    "colab": {
     "base_uri": "https://localhost:8080/",
     "height": 379
    },
    "executionInfo": {
     "elapsed": 1785,
     "status": "ok",
     "timestamp": 1619421883422,
     "user": {
      "displayName": "ABHINAND RAJAGOPAL ABHINAND RAJAGOPAL",
      "photoUrl": "",
      "userId": "03003957959191800560"
     },
     "user_tz": -330
    },
    "id": "kuJmoRTLsipb",
    "outputId": "2a66ad83-ab3a-4b32-9154-bf74f0b0c043"
   },
   "outputs": [
    {
     "data": {
      "image/png": "[encoded data removed]",
      "text/plain": [
       "<Figure size 410.6x360 with 1 Axes>"
      ]
     },
     "metadata": {},
     "output_type": "display_data"
    }
   ],
   "source": [
    "plot_percep(A_13, data_aug_13)"
   ]
  },
  {
   "cell_type": "code",
   "execution_count": 59,
   "metadata": {
    "colab": {
     "base_uri": "https://localhost:8080/",
     "height": 380
    },
    "executionInfo": {
     "elapsed": 1767,
     "status": "ok",
     "timestamp": 1619421887892,
     "user": {
      "displayName": "ABHINAND RAJAGOPAL ABHINAND RAJAGOPAL",
      "photoUrl": "",
      "userId": "03003957959191800560"
     },
     "user_tz": -330
    },
    "id": "0M6D1kZTsVGq",
    "outputId": "17710f33-d0f9-4167-ee1b-8e8127864968"
   },
   "outputs": [
    {
     "data": {
      "image/png": "[encoded data removed]",
      "text/plain": [
       "<Figure size 474.35x360 with 1 Axes>"
      ]
     },
     "metadata": {},
     "output_type": "display_data"
    }
   ],
   "source": [
    "a = np.linspace(-1,7,100)\n",
    "b_12 = -a*A_12[0]/A_12[1] - A_12[2]/A_12[1]\n",
    "b_13 = -a*A_13[0]/A_13[1] - A_13[2]/A_13[1]\n",
    "b_23 = -a*A_23[0]/A_23[1] - A_23[2]/A_23[1]\n",
    "\n",
    "sns.lmplot(x='PetalLengthCm',y='SepalWidthCm', data=iris_data, fit_reg=False, hue='Species', legend=True)\n",
    "plt.plot(a,b_12)\n",
    "plt.plot(a,b_13)\n",
    "plt.plot(a,b_23)\n",
    "plt.show()"
   ]
  },
  {
   "cell_type": "markdown",
   "metadata": {
    "id": "4hJhz95mtaVm"
   },
   "source": [
    "####  SVM"
   ]
  },
  {
   "cell_type": "code",
   "execution_count": 61,
   "metadata": {
    "id": "VNQQLUV2tcfv"
   },
   "outputs": [],
   "source": [
    "def data_svm_split(iris):\n",
    "    X = iris[['PetalLengthCm','SepalWidthCm']]\n",
    "    X = np.array(X)\n",
    "\n",
    "    Y = iris['var']\n",
    "    Y = np.array(Y).reshape(len(iris),1)\n",
    "\n",
    "    return (X,Y)"
   ]
  },
  {
   "cell_type": "code",
   "execution_count": 62,
   "metadata": {
    "id": "2NM2SH0Ft7qF"
   },
   "outputs": [],
   "source": [
    "X_12,Y_12 = data_svm_split(iris_data_12)\n",
    "X_13,Y_13 = data_svm_split(iris_data_13)\n",
    "X_23,Y_23 = data_svm_split(iris_data_23)"
   ]
  },
  {
   "cell_type": "code",
   "execution_count": 63,
   "metadata": {
    "id": "OOUaEqiauW5O"
   },
   "outputs": [],
   "source": [
    "def SVM_Train(X,Y):\n",
    "    m = len(X)\n",
    "    P = matrix(np.multiply(np.dot(Y, Y.T), np.dot(X, X.T)))\n",
    "    q = matrix(np.ones(m) * -1)\n",
    "    g1 = np.asarray(np.diag(np.ones(m) * -1))\n",
    "    \n",
    "    print(np.array(g1).shape)\n",
    "    h = matrix(np.zeros(m))\n",
    "    A = np.reshape((Y.T), (1,m))\n",
    "    b=[[0]]\n",
    "\n",
    "    P = matrix(P,(m,m),'d') #dense\n",
    "    A = matrix(A,(1,m),'d')\n",
    "    g1 = matrix(g1,(m,m),'d')\n",
    "    b = matrix(b,(1,1),'d')\n",
    "\n",
    "    sol = solvers.qp(P, q, g1, h, A, b)\n",
    "    alpha = np.array(sol['x'])\n",
    "    ind = (alpha > 1e-4).flatten()\n",
    "    print(ind)\n",
    "\n",
    "    W = np.dot(np.transpose(alpha*Y),X)\n",
    "    print(W)\n",
    "\n",
    "    for i in range(m):\n",
    "        if ind[i] == True:\n",
    "            W0 = Y[i] - np.dot(X[i],W.T)\n",
    "            print\n",
    "            break\n",
    "\n",
    "    print(W0)\n",
    "\n",
    "    return (W, W0)"
   ]
  },
  {
   "cell_type": "code",
   "execution_count": 64,
   "metadata": {
    "colab": {
     "base_uri": "https://localhost:8080/"
    },
    "executionInfo": {
     "elapsed": 842,
     "status": "ok",
     "timestamp": 1619416605741,
     "user": {
      "displayName": "Abhinand Rajagopal",
      "photoUrl": "",
      "userId": "02283603712448260199"
     },
     "user_tz": -330
    },
    "id": "9-iDRry9v_cJ",
    "outputId": "cbe28253-f155-4c04-8bff-afbd47652e23"
   },
   "outputs": [
    {
     "name": "stdout",
     "output_type": "stream",
     "text": [
      "[x1 x2]\n"
     ]
    }
   ],
   "source": [
    "x1, x2 = symbols('x1 x2')\n",
    "P_SVM = np.array([x1,x2])\n",
    "print(P_SVM)"
   ]
  },
  {
   "cell_type": "code",
   "execution_count": 65,
   "metadata": {
    "colab": {
     "base_uri": "https://localhost:8080/"
    },
    "executionInfo": {
     "elapsed": 1261,
     "status": "ok",
     "timestamp": 1619416289749,
     "user": {
      "displayName": "Abhinand Rajagopal",
      "photoUrl": "",
      "userId": "02283603712448260199"
     },
     "user_tz": -330
    },
    "id": "eqANb8eru0G8",
    "outputId": "cb76d4d4-3914-4896-a3b7-1257cba792a6"
   },
   "outputs": [
    {
     "name": "stdout",
     "output_type": "stream",
     "text": [
      "(100, 100)\n",
      "     pcost       dcost       gap    pres   dres\n",
      " 0: -4.4149e+00 -8.2368e+00  3e+02  1e+01  2e+00\n",
      " 1: -2.3919e+00 -2.5541e+00  2e+01  1e+00  2e-01\n",
      " 2: -4.3905e-01 -1.7716e+00  2e+00  5e-02  6e-03\n",
      " 3: -6.7500e-01 -1.0552e+00  5e-01  1e-02  1e-03\n",
      " 4: -8.1447e-01 -1.1321e+00  4e-01  4e-03  5e-04\n",
      " 5: -1.0065e+00 -1.0271e+00  2e-02  9e-05  1e-05\n",
      " 6: -1.0251e+00 -1.0253e+00  2e-04  1e-06  1e-07\n",
      " 7: -1.0253e+00 -1.0253e+00  2e-06  1e-08  1e-09\n",
      " 8: -1.0253e+00 -1.0253e+00  2e-08  1e-10  1e-11\n",
      "Optimal solution found.\n",
      "[False False False False False False False False False False False False\n",
      " False False False False False False False False False False False False\n",
      "  True False False False False False False False False False False False\n",
      " False False False False False  True False False False False False False\n",
      " False False False False False False False False False False False False\n",
      " False False False False False False False False False False False False\n",
      " False False False False False False False False False False False False\n",
      " False False False False False False False False False False False False\n",
      " False False  True False]\n",
      "[[-1.25714286  0.68571428]]\n",
      "[1.05714287]\n"
     ]
    }
   ],
   "source": [
    "W_12,W0_12 = SVM_Train(X_12,Y_12)"
   ]
  },
  {
   "cell_type": "code",
   "execution_count": 66,
   "metadata": {
    "colab": {
     "base_uri": "https://localhost:8080/"
    },
    "executionInfo": {
     "elapsed": 1225,
     "status": "ok",
     "timestamp": 1619416635124,
     "user": {
      "displayName": "Abhinand Rajagopal",
      "photoUrl": "",
      "userId": "02283603712448260199"
     },
     "user_tz": -330
    },
    "id": "Vp6XfiLtvxhs",
    "outputId": "94999b86-da78-4102-e600-33508cf43e12"
   },
   "outputs": [
    {
     "name": "stdout",
     "output_type": "stream",
     "text": [
      "Decision Boundary between Setosa and Versicolor:  -1.2571428593549*x1 + 0.685714284475988*x2 + 1.05714286555595  = 0\n"
     ]
    }
   ],
   "source": [
    "SVM_equation_12 = np.dot(W_12[0].T, P_SVM) + W0_12[0]\n",
    "print(\"Decision Boundary between Setosa and Versicolor: \", SVM_equation_12, ' = 0')"
   ]
  },
  {
   "cell_type": "code",
   "execution_count": 67,
   "metadata": {
    "colab": {
     "base_uri": "https://localhost:8080/"
    },
    "executionInfo": {
     "elapsed": 1540,
     "status": "ok",
     "timestamp": 1619416316407,
     "user": {
      "displayName": "Abhinand Rajagopal",
      "photoUrl": "",
      "userId": "02283603712448260199"
     },
     "user_tz": -330
    },
    "id": "pJDPL-4Du7pw",
    "outputId": "98b6794f-d2e1-42c1-958f-a18ab481bf45"
   },
   "outputs": [
    {
     "name": "stdout",
     "output_type": "stream",
     "text": [
      "(100, 100)\n",
      "     pcost       dcost       gap    pres   dres\n",
      " 0: -3.3260e+00 -5.0008e+00  2e+02  2e+01  1e+00\n",
      " 1: -1.5534e-01 -8.1749e-01  1e+01  9e-01  8e-02\n",
      " 2:  1.9899e-02 -6.5370e-01  9e-01  1e-02  1e-03\n",
      " 3: -1.5557e-01 -2.7963e-01  1e-01  7e-04  6e-05\n",
      " 4: -2.2569e-01 -2.8991e-01  7e-02  1e-04  1e-05\n",
      " 5: -2.5978e-01 -2.6459e-01  5e-03  1e-05  8e-07\n",
      " 6: -2.6415e-01 -2.6421e-01  6e-05  1e-07  9e-09\n",
      " 7: -2.6420e-01 -2.6420e-01  6e-07  1e-09  9e-11\n",
      " 8: -2.6420e-01 -2.6420e-01  6e-09  1e-11  9e-13\n",
      "Optimal solution found.\n",
      "[False False False False False False False False False False False False\n",
      " False False False False False False False False False False False False\n",
      "  True False False False False False False False False False False False\n",
      " False False False False False False False False False False False False\n",
      " False False False False False False False False  True False False False\n",
      " False False False False False False False False False False False False\n",
      " False False False False False False False False False False False False\n",
      " False False False False False False False False False False False False\n",
      " False False False False]\n",
      "[[-0.68692206  0.23778071]]\n",
      "[1.49669752]\n"
     ]
    }
   ],
   "source": [
    "W_13,W0_13 = SVM_Train(X_13,Y_13)"
   ]
  },
  {
   "cell_type": "code",
   "execution_count": 68,
   "metadata": {
    "colab": {
     "base_uri": "https://localhost:8080/"
    },
    "executionInfo": {
     "elapsed": 1032,
     "status": "ok",
     "timestamp": 1619416668101,
     "user": {
      "displayName": "Abhinand Rajagopal",
      "photoUrl": "",
      "userId": "02283603712448260199"
     },
     "user_tz": -330
    },
    "id": "nn2KsgelwPpt",
    "outputId": "721af953-948c-4f33-c6af-370d512afb64"
   },
   "outputs": [
    {
     "name": "stdout",
     "output_type": "stream",
     "text": [
      "Decision Boundary between Setosa and Virginica:  -0.686922063673952*x1 + 0.237780706899677*x2 + 1.49669751752161  = 0\n"
     ]
    }
   ],
   "source": [
    "SVM_equation_13 = np.dot(W_13[0].T, P_SVM) + W0_13[0]\n",
    "print(\"Decision Boundary between Setosa and Virginica: \", SVM_equation_13, ' = 0')"
   ]
  },
  {
   "cell_type": "code",
   "execution_count": 69,
   "metadata": {
    "colab": {
     "base_uri": "https://localhost:8080/"
    },
    "executionInfo": {
     "elapsed": 997,
     "status": "ok",
     "timestamp": 1619416335528,
     "user": {
      "displayName": "Abhinand Rajagopal",
      "photoUrl": "",
      "userId": "02283603712448260199"
     },
     "user_tz": -330
    },
    "id": "kSYCjg-ivAGI",
    "outputId": "9c3f8b14-3b55-46db-8141-9b27fd143f22"
   },
   "outputs": [
    {
     "name": "stdout",
     "output_type": "stream",
     "text": [
      "(100, 100)\n",
      "     pcost       dcost       gap    pres   dres\n",
      " 0: -3.7394e+01 -8.7261e+01  5e+02  2e+01  2e+00\n",
      " 1: -1.0739e+02 -1.7754e+02  3e+02  1e+01  2e+00\n",
      " 2: -5.7593e+02 -8.7585e+02  4e+02  1e+01  2e+00\n",
      " 3: -1.9989e+03 -2.2838e+03  3e+02  1e+01  1e+00\n",
      " 4: -6.2946e+03 -6.9640e+03  7e+02  1e+01  1e+00\n",
      " 5: -3.5722e+04 -3.7828e+04  2e+03  1e+01  1e+00\n",
      " 6: -1.6095e+05 -1.6859e+05  8e+03  1e+01  1e+00\n",
      " 7: -2.7866e+06 -2.8210e+06  3e+04  9e+00  1e+00\n",
      " 8: -1.2096e+08 -1.2168e+08  7e+05  9e+00  1e+00\n",
      " 9: -1.7763e+10 -1.7777e+10  1e+07  9e+00  1e+00\n",
      "10: -1.7815e+10 -1.7829e+10  1e+07  9e+00  1e+00\n",
      "11: -1.7813e+10 -1.7827e+10  1e+07  9e+00  1e+00\n",
      "12: -2.7428e+10 -2.7450e+10  2e+07  9e+00  1e+00\n",
      "13: -3.1694e+10 -3.1719e+10  3e+07  9e+00  1e+00\n",
      "14: -4.4785e+10 -4.4819e+10  3e+07  9e+00  1e+00\n",
      "15: -7.3700e+10 -7.3747e+10  5e+07  9e+00  1e+00\n",
      "16: -1.4174e+11 -1.4182e+11  8e+07  9e+00  1e+00\n",
      "17: -1.8483e+11 -1.8493e+11  1e+08  9e+00  1e+00\n",
      "Terminated (singular KKT matrix).\n",
      "[ True  True  True  True  True  True  True  True  True  True  True  True\n",
      "  True  True  True  True  True  True  True  True  True  True  True  True\n",
      "  True  True  True  True  True  True  True  True  True  True  True  True\n",
      "  True  True  True  True  True  True  True  True  True  True  True  True\n",
      "  True  True  True  True  True  True  True  True  True  True  True  True\n",
      "  True  True  True  True  True  True  True  True  True  True  True  True\n",
      "  True  True  True  True  True  True  True  True  True  True  True  True\n",
      "  True  True  True  True  True  True  True  True  True  True  True  True\n",
      "  True  True  True  True]\n",
      "[[-0.00036621 -0.00021362]]\n",
      "[1.00240479]\n"
     ]
    }
   ],
   "source": [
    "W_23,W0_23 = SVM_Train(X_23,Y_23)"
   ]
  },
  {
   "cell_type": "code",
   "execution_count": 70,
   "metadata": {
    "colab": {
     "base_uri": "https://localhost:8080/"
    },
    "executionInfo": {
     "elapsed": 862,
     "status": "ok",
     "timestamp": 1619416691439,
     "user": {
      "displayName": "Abhinand Rajagopal",
      "photoUrl": "",
      "userId": "02283603712448260199"
     },
     "user_tz": -330
    },
    "id": "DvA4gANqwXee",
    "outputId": "264715ba-3eb5-4128-ff4d-7b2a91ef88b9"
   },
   "outputs": [
    {
     "name": "stdout",
     "output_type": "stream",
     "text": [
      "Decision Boundary between Versicolor and Virginica:  -0.0003662109375*x1 - 0.000213623046875*x2 + 1.00240478515625  = 0\n"
     ]
    }
   ],
   "source": [
    "SVM_equation_23 = np.dot(W_23[0].T, P_SVM) + W0_23[0]\n",
    "print(\"Decision Boundary between Versicolor and Virginica: \", SVM_equation_23, ' = 0')"
   ]
  },
  {
   "cell_type": "code",
   "execution_count": 72,
   "metadata": {
    "id": "yg5EyDhOvSGG"
   },
   "outputs": [],
   "source": [
    "def plot_SVM(W,W0, data_aug):\n",
    "    a = np.linspace(-1,7,100)\n",
    "    b = -a*W[0][0]/W[0][1] - W0[0]/W[0][1]\n",
    "    sns.lmplot(x='PetalLengthCm',y='SepalWidthCm', data=data_aug, fit_reg=False, hue='var', legend=True)\n",
    "    plt.plot(a,b)\n",
    "    plt.show()"
   ]
  },
  {
   "cell_type": "code",
   "execution_count": 73,
   "metadata": {
    "colab": {
     "base_uri": "https://localhost:8080/",
     "height": 384
    },
    "executionInfo": {
     "elapsed": 2591,
     "status": "ok",
     "timestamp": 1619416496260,
     "user": {
      "displayName": "Abhinand Rajagopal",
      "photoUrl": "",
      "userId": "02283603712448260199"
     },
     "user_tz": -330
    },
    "id": "0m3Ix-eQvjyu",
    "outputId": "3b9b44b3-e317-481a-ece7-9dc6c81e19ef"
   },
   "outputs": [
    {
     "data": {
      "image/png": "[encoded data removed]",
      "text/plain": [
       "<Figure size 410.6x360 with 1 Axes>"
      ]
     },
     "metadata": {},
     "output_type": "display_data"
    }
   ],
   "source": [
    "plot_SVM(W_12,W0_12,iris_data_12)"
   ]
  },
  {
   "cell_type": "code",
   "execution_count": 74,
   "metadata": {
    "colab": {
     "base_uri": "https://localhost:8080/",
     "height": 382
    },
    "executionInfo": {
     "elapsed": 2088,
     "status": "ok",
     "timestamp": 1619416719160,
     "user": {
      "displayName": "Abhinand Rajagopal",
      "photoUrl": "",
      "userId": "02283603712448260199"
     },
     "user_tz": -330
    },
    "id": "1WOEoQbPvsgt",
    "outputId": "6b7bffaf-8807-45c2-d65b-6afff101e62e"
   },
   "outputs": [
    {
     "data": {
      "image/png": "[encoded data removed]",
      "text/plain": [
       "<Figure size 410.6x360 with 1 Axes>"
      ]
     },
     "metadata": {},
     "output_type": "display_data"
    }
   ],
   "source": [
    "plot_SVM(W_13,W0_13,iris_data_13)"
   ]
  },
  {
   "cell_type": "code",
   "execution_count": 75,
   "metadata": {
    "colab": {
     "base_uri": "https://localhost:8080/",
     "height": 382
    },
    "executionInfo": {
     "elapsed": 2119,
     "status": "ok",
     "timestamp": 1619416739374,
     "user": {
      "displayName": "Abhinand Rajagopal",
      "photoUrl": "",
      "userId": "02283603712448260199"
     },
     "user_tz": -330
    },
    "id": "zHQsTrFiwicF",
    "outputId": "77889065-b9a7-40eb-b8cc-d0934a036658"
   },
   "outputs": [
    {
     "data": {
      "image/png": "[encoded data removed]",
      "text/plain": [
       "<Figure size 410.6x360 with 1 Axes>"
      ]
     },
     "metadata": {},
     "output_type": "display_data"
    }
   ],
   "source": [
    "plot_SVM(W_23,W0_23,iris_data_23)"
   ]
  },
  {
   "cell_type": "code",
   "execution_count": 77,
   "metadata": {
    "colab": {
     "base_uri": "https://localhost:8080/",
     "height": 383
    },
    "executionInfo": {
     "elapsed": 2364,
     "status": "ok",
     "timestamp": 1619417070595,
     "user": {
      "displayName": "Abhinand Rajagopal",
      "photoUrl": "",
      "userId": "02283603712448260199"
     },
     "user_tz": -330
    },
    "id": "tJArscYbxbjf",
    "outputId": "96b0b2db-c926-4779-f24b-5b3e9bbf55ed"
   },
   "outputs": [
    {
     "data": {
      "image/png": "[encoded data removed]",
      "text/plain": [
       "<Figure size 474.35x360 with 1 Axes>"
      ]
     },
     "metadata": {},
     "output_type": "display_data"
    }
   ],
   "source": [
    "a = np.linspace(-1,7,100)\n",
    "b_12 = -a*W_12[0][0]/W_12[0][1] - W0_12[0]/W_12[0][1]\n",
    "b_13 = -a*W_13[0][0]/W_13[0][1] - W0_13[0]/W_13[0][1]\n",
    "sns.set(style=\"darkgrid\")\n",
    "sns.lmplot(x='PetalLengthCm',y='SepalWidthCm', data=iris_data, fit_reg=False, hue='Species', legend=True)\n",
    "\n",
    "plt.plot(a,b_12)\n",
    "plt.plot(a,b_13)\n",
    "plt.show()"
   ]
  },
  {
   "cell_type": "code",
   "execution_count": 78,
   "metadata": {
    "colab": {
     "base_uri": "https://localhost:8080/",
     "height": 380
    },
    "executionInfo": {
     "elapsed": 1846,
     "status": "ok",
     "timestamp": 1619417115775,
     "user": {
      "displayName": "Abhinand Rajagopal",
      "photoUrl": "",
      "userId": "02283603712448260199"
     },
     "user_tz": -330
    },
    "id": "PKD3O3OOx9m0",
    "outputId": "b2481d45-3c82-412f-fcd5-3b8ace34b5f9",
    "scrolled": true
   },
   "outputs": [
    {
     "data": {
      "image/png": "[encoded data removed]",
      "text/plain": [
       "<Figure size 474.35x360 with 1 Axes>"
      ]
     },
     "metadata": {},
     "output_type": "display_data"
    }
   ],
   "source": [
    "a = np.linspace(-1,7,100)\n",
    "b_12 = -a*W_12[0][0]/W_12[0][1] - W0_12[0]/W_12[0][1]\n",
    "b_13 = -a*W_13[0][0]/W_13[0][1] - W0_13[0]/W_13[0][1]\n",
    "b_23 = -a*W_23[0][0]/W_23[0][1] - W0_23[0]/W_23[0][1]\n",
    "sns.set(style=\"darkgrid\")\n",
    "sns.lmplot(x='PetalLengthCm',y='SepalWidthCm', data=iris_data, fit_reg=False, hue='Species', legend=True)\n",
    "plt.plot(a,b_12)\n",
    "plt.plot(a,b_13)\n",
    "plt.plot(a,b_23)\n",
    "plt.show()"
   ]
  }
 ],
 "metadata": {
  "colab": {
   "collapsed_sections": [],
   "name": "PR_A4_Q4_Group20.ipynb",
   "provenance": []
  },
  "kernelspec": {
   "display_name": "Python 3",
   "language": "python",
   "name": "python3"
  },
  "language_info": {
   "codemirror_mode": {
    "name": "ipython",
    "version": 3
   },
   "file_extension": ".py",
   "mimetype": "text/x-python",
   "name": "python",
   "nbconvert_exporter": "python",
   "pygments_lexer": "ipython3",
   "version": "3.8.10"
  }
 },
 "nbformat": 4,
 "nbformat_minor": 1
}

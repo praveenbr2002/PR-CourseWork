{
 "cells": [
  {
   "cell_type": "markdown",
   "id": "comparable-lodging",
   "metadata": {},
   "source": [
    "### Pattern Recognition\n",
    "### Assignment 4  \n",
    "### COE19B007 - Praveen B R \n",
    "#### Question 1"
   ]
  },
  {
   "cell_type": "code",
   "execution_count": 10,
   "id": "victorian-tongue",
   "metadata": {},
   "outputs": [],
   "source": [
    "import cvxopt\n",
    "import pandas as pd\n",
    "import numpy as np\n",
    "import matplotlib.pyplot as plt\n",
    "cvxopt.solvers.options['show_progress']=False"
   ]
  },
  {
   "cell_type": "markdown",
   "id": "present-webcam",
   "metadata": {},
   "source": [
    "### Perceptron"
   ]
  },
  {
   "cell_type": "code",
   "execution_count": 2,
   "id": "smaller-synthetic",
   "metadata": {},
   "outputs": [],
   "source": [
    "class Perceptron:\n",
    "    def __init__(self,learning_rate=0.01,epochs=1000):\n",
    "        self.learning_rate=learning_rate\n",
    "        self.epochs=epochs\n",
    "    \n",
    "    def __activation_func(self,x):\n",
    "        return 1 if x>=0 else 0\n",
    "    \n",
    "    def __predict(self,x):\n",
    "        g=(self.weights.T).dot(x)\n",
    "        return self.__activation_func(g)\n",
    "    \n",
    "    def __plot(self,X,y):\n",
    "        color_cond = ['red' if i==1 else 'yellow' for i in y]\n",
    "        plt.scatter(np.array(X[:, 1]), np.array(X[:, 2]), color=color_cond)\n",
    "        slope = -(self.weights[1] / self.weights[2])\n",
    "        intercept = -(self.weights[0] / self.weights[2])\n",
    "        ax = plt.gca()\n",
    "        x_vals = np.array(ax.get_xlim())\n",
    "        y_vals = intercept + (slope * x_vals)\n",
    "        plt.plot(x_vals, y_vals)\n",
    "        plt.title('DECISION BOUNDARY')\n",
    "        plt.show()\n",
    "    \n",
    "    def fit(self, X, y):\n",
    "        self.X = np.hstack((np.ones((len(X), 1)), X))\n",
    "        self.y = y\n",
    "        self.weights = np.zeros(len(self.X[0]))\n",
    "        self.epoch = 0\n",
    "        while self.epoch < self.epochs:\n",
    "            self.epoch = self.epoch + 1\n",
    "            self.old_W = np.copy(self.weights)\n",
    "            for index, x in enumerate(self.X):\n",
    "                self.weights = self.weights + self.learning_rate * (self.y[index] - self.__predict(x)) * x\n",
    "            if np.array_equal(self.weights, self.old_W):\n",
    "                break\n",
    "            print(f'Epoch {self.epoch} --> W: {self.weights}')\n",
    "            self.__plot(self.X, self.y)\n",
    "            \n",
    "    def predict(self, X):\n",
    "        if hasattr(self, 'weights'):\n",
    "            X = np.hstack((np.ones((len(X), 1)), X))\n",
    "            g = X @ self.weights\n",
    "            return np.where(g >= 0, 1, 0)\n",
    "        else:\n",
    "            print('Please run fit in order to be able to use predict')\n",
    "            \n",
    "    @staticmethod\n",
    "    def accuracy(y_true,y_pred):\n",
    "        return np.sum(y_true == y_pred) / len(y_true)"
   ]
  },
  {
   "cell_type": "code",
   "execution_count": 3,
   "id": "known-strip",
   "metadata": {},
   "outputs": [],
   "source": [
    "def linear_kernel(x1, x2):\n",
    "    return np.dot(x1, x2)\n",
    "\n",
    "def polynomial_kernel(x, y, p=2):\n",
    "    return (1 + np.dot(x, y)) ** p\n",
    "\n",
    "def gaussian_kernel(x, y, sigma=5.0):\n",
    "    return np.exp(-np.linalg.norm(x - y) ** 2 / (2 * (sigma ** 2)))\n",
    "    "
   ]
  },
  {
   "cell_type": "code",
   "execution_count": 52,
   "id": "bab01dfb",
   "metadata": {},
   "outputs": [
    {
     "data": {
      "text/html": [
       "<div>\n",
       "<style scoped>\n",
       "    .dataframe tbody tr th:only-of-type {\n",
       "        vertical-align: middle;\n",
       "    }\n",
       "\n",
       "    .dataframe tbody tr th {\n",
       "        vertical-align: top;\n",
       "    }\n",
       "\n",
       "    .dataframe thead th {\n",
       "        text-align: right;\n",
       "    }\n",
       "</style>\n",
       "<table border=\"1\" class=\"dataframe\">\n",
       "  <thead>\n",
       "    <tr style=\"text-align: right;\">\n",
       "      <th></th>\n",
       "      <th>x1</th>\n",
       "      <th>x2</th>\n",
       "      <th>y</th>\n",
       "    </tr>\n",
       "  </thead>\n",
       "  <tbody>\n",
       "    <tr>\n",
       "      <th>0</th>\n",
       "      <td>0</td>\n",
       "      <td>0</td>\n",
       "      <td>0</td>\n",
       "    </tr>\n",
       "    <tr>\n",
       "      <th>1</th>\n",
       "      <td>0</td>\n",
       "      <td>1</td>\n",
       "      <td>0</td>\n",
       "    </tr>\n",
       "    <tr>\n",
       "      <th>2</th>\n",
       "      <td>1</td>\n",
       "      <td>0</td>\n",
       "      <td>0</td>\n",
       "    </tr>\n",
       "    <tr>\n",
       "      <th>3</th>\n",
       "      <td>1</td>\n",
       "      <td>1</td>\n",
       "      <td>1</td>\n",
       "    </tr>\n",
       "  </tbody>\n",
       "</table>\n",
       "</div>"
      ],
      "text/plain": [
       "   x1  x2  y\n",
       "0   0   0  0\n",
       "1   0   1  0\n",
       "2   1   0  0\n",
       "3   1   1  1"
      ]
     },
     "execution_count": 52,
     "metadata": {},
     "output_type": "execute_result"
    }
   ],
   "source": [
    "#And Gate with two inputs x1,x2\n",
    "And = pd.DataFrame([[0, 0, 0], [0, 1, 0], [1, 0, 0], [1, 1, 1]])\n",
    "And.columns = ['x1','x2','y']\n",
    "X = np.array(And.loc[:,['x1','x2']])\n",
    "y = np.array(And.loc[:,'y'])\n",
    "And"
   ]
  },
  {
   "cell_type": "code",
   "execution_count": 47,
   "id": "sunrise-madness",
   "metadata": {},
   "outputs": [
    {
     "name": "stdout",
     "output_type": "stream",
     "text": [
      "Epoch 1 --> W: [0.   0.03 0.03]\n"
     ]
    },
    {
     "data": {
      "image/png": "[encoded data removed]",
      "text/plain": [
       "<Figure size 432x288 with 1 Axes>"
      ]
     },
     "metadata": {
      "needs_background": "light"
     },
     "output_type": "display_data"
    },
    {
     "name": "stdout",
     "output_type": "stream",
     "text": [
      "Epoch 2 --> W: [-0.03  0.06  0.03]\n"
     ]
    },
    {
     "data": {
      "image/png": "[encoded data removed]",
      "text/plain": [
       "<Figure size 432x288 with 1 Axes>"
      ]
     },
     "metadata": {
      "needs_background": "light"
     },
     "output_type": "display_data"
    },
    {
     "name": "stdout",
     "output_type": "stream",
     "text": [
      "Epoch 3 --> W: [-0.06  0.06  0.03]\n"
     ]
    },
    {
     "data": {
      "image/png": "[encoded data removed]",
      "text/plain": [
       "<Figure size 432x288 with 1 Axes>"
      ]
     },
     "metadata": {
      "needs_background": "light"
     },
     "output_type": "display_data"
    },
    {
     "name": "stdout",
     "output_type": "stream",
     "text": [
      "Epoch 4 --> W: [-0.06  0.06  0.06]\n"
     ]
    },
    {
     "data": {
      "image/png": "[encoded data removed]",
      "text/plain": [
       "<Figure size 432x288 with 1 Axes>"
      ]
     },
     "metadata": {
      "needs_background": "light"
     },
     "output_type": "display_data"
    },
    {
     "name": "stdout",
     "output_type": "stream",
     "text": [
      "Epoch 5 --> W: [-0.09  0.06  0.03]\n"
     ]
    },
    {
     "data": {
      "image/png": "[encoded data removed]",
      "text/plain": [
       "<Figure size 432x288 with 1 Axes>"
      ]
     },
     "metadata": {
      "needs_background": "light"
     },
     "output_type": "display_data"
    }
   ],
   "source": [
    "pcn = Perceptron(learning_rate=0.03)\n",
    "pcn.fit(X, y)"
   ]
  },
  {
   "cell_type": "code",
   "execution_count": 48,
   "id": "coral-manhattan",
   "metadata": {},
   "outputs": [
    {
     "name": "stdout",
     "output_type": "stream",
     "text": [
      "Accuracy: 1.0\n"
     ]
    }
   ],
   "source": [
    "y_pred = pcn.predict(X)\n",
    "print(f\"Accuracy: {pcn.accuracy(y, y_pred)}\")"
   ]
  },
  {
   "cell_type": "markdown",
   "id": "frozen-plaza",
   "metadata": {},
   "source": [
    "### SVM"
   ]
  },
  {
   "cell_type": "code",
   "execution_count": 49,
   "id": "english-stephen",
   "metadata": {},
   "outputs": [],
   "source": [
    "class SVM:\n",
    "    def __init__(self, kernel=linear_kernel, C=None):\n",
    "        self.kernel = kernel\n",
    "        self.C = C\n",
    "        if self.C is not None:\n",
    "            self.C = float(self.C)\n",
    "   \n",
    "    def fit(self,X,y):\n",
    "        n_samples, n_features = X.shape\n",
    "        K = np.zeros((n_samples, n_samples))\n",
    "        for i in range(n_samples):\n",
    "            for j in range(n_samples):\n",
    "                K[i, j] = self.kernel(X[i], X[j])\n",
    "        P = cvxopt.matrix(np.outer(y, y) * K)\n",
    "        q = cvxopt.matrix(np.ones(n_samples) * -1)\n",
    "        y = y.astype(np.double)\n",
    "        A = cvxopt.matrix(y, (1, n_samples))\n",
    "        b = cvxopt.matrix(0.0)\n",
    "        \n",
    "        if self.C is None:\n",
    "            G = cvxopt.matrix(np.diag(np.ones(n_samples) * -1))\n",
    "            h = cvxopt.matrix(np.zeros(n_samples))\n",
    "        else:\n",
    "            tmp1 = np.diag(np.ones(n_samples) * -1)\n",
    "            tmp2 = np.identity(n_samples)\n",
    "            G = cvxopt.matrix(np.vstack((tmp1, tmp2)))\n",
    "            tmp1 = np.zeros(n_samples)\n",
    "            tmp2 = np.ones(n_samples) * self.C\n",
    "            h = cvxopt.matrix(np.hstack((tmp1, tmp2)))\n",
    "        \n",
    "        solution = cvxopt.solvers.qp(P, q, G, h, A, b)  \n",
    "        a = np.ravel(solution['x'])\n",
    "        sv = a > 1e-5\n",
    "        ind = np.arange(len(a))[sv]\n",
    "        self.a = a[sv]\n",
    "        self.sv = X[sv]\n",
    "        self.sv_y = y[sv]\n",
    "        print(f\"{len(self.a)} support vectors out of {n_samples} points\")\n",
    "        self.b = 0\n",
    "        for n in range(len(self.a)):\n",
    "            self.b += self.sv_y[n]\n",
    "            self.b -= np.sum(self.a * self.sv_y * K[ind[n], sv])\n",
    "        \n",
    "        self.b /= len(self.a)\n",
    "        if self.kernel == linear_kernel:\n",
    "            self.w = np.zeros(n_features)\n",
    "            for n in range(len(self.a)):\n",
    "                self.w += self.a[n] * self.sv_y[n] * self.sv[n]\n",
    "        else:\n",
    "            self.w=None\n",
    "        \n",
    "                \n",
    "    def project(self,X):\n",
    "        if self.w is not None:\n",
    "            return np.dot(X, self.w) + self.b\n",
    "        else:\n",
    "            y_predict = np.zeros(len(X))\n",
    "            for i in range(len(X)):\n",
    "                s = 0\n",
    "                for a, sv_y, sv in zip(self.a, self.sv_y, self.sv):\n",
    "                    s += a * sv_y * self.kernel(X[i], sv)\n",
    "                y_predict[i] = s\n",
    "            return y_predict + self.b\n",
    "    \n",
    "    def predict(self,X):\n",
    "        return np.sign(self.project(X))\n",
    "    \n",
    "    def get_nonlinear_equation(self):\n",
    "        eq = np.zeros(6)\n",
    "        for a, sv_y, sv in zip(self.a, self.sv_y, self.sv):\n",
    "            eq += a * sv_y * np.asarray([sv[0] ** 2, sv[1] ** 2, 1, sv[0] * 2,sv[1] * 2, 2 * sv[0] * sv[1]])\n",
    "        return eq\n",
    "    \n",
    "    def __str__(self):\n",
    "        print(\"Classifier Details\")\n",
    "        print(f\"Alpha: {self.a}\")\n",
    "        print(f\"Bias: {self.b}\")\n",
    "        if self.kernel == linear_kernel:\n",
    "            print(f\"Weights: {self.w}\")\n",
    "            print(f\"Center Margin Equation: {self.w[0]} x1 + {self.w[1]} x2 +{self.b} = 0\")\n",
    "        else:\n",
    "            print(\"Weights: None\")\n",
    "            w = self.get_nonlinear_equation()\n",
    "            print(f\"Center Margin Equation: {w[0]} x1^2 + {w[1]} x2^2 + {w[3]}x1 + {w[4]} x2 + {w[5]} x1x2 + {w[2]} + {self.b} = 0\")\n",
    "        print(f\"Support vectors: {self.sv}\")\n",
    "        return \"\"\n",
    "   \n",
    "    @staticmethod\n",
    "    def accuracy(y_true, y_pred):\n",
    "        return np.sum(y_true == y_pred) / len(y_true)\n",
    "    \n",
    "    def plot_decision_boundary(self, X, y):\n",
    "        color = ['red' if c > 0 else 'blue' for c in y]\n",
    "        plt.scatter(self.sv[:, 0], self.sv[:, 1], s=100, c=\"g\")\n",
    "        plt.scatter(X[:, 0], X[:, 1], c=color)\n",
    "        w = self.w\n",
    "        b = self.b\n",
    "        a = -w[0] / w[1]\n",
    "        xx = np.linspace(-1, 2)\n",
    "        yy = a * xx - b / w[1]\n",
    "        plt.plot(xx, yy, \"k\")\n",
    "        yy = a * xx - (b + 1) / w[1]\n",
    "        plt.plot(xx, yy, \"k--\")\n",
    "        yy = a * xx - (b - 1) / w[1]\n",
    "        plt.plot(xx, yy, \"k--\")\n",
    "        plt.show()\n",
    "    \n",
    "    def plot_contour(self, X, y):\n",
    "        X1_train = X[y == -1]\n",
    "        X2_train = X[y != -1]\n",
    "        color = ['red' if c > 0 else 'blue' for c in y]\n",
    "        plt.scatter(self.sv[:, 0], self.sv[:, 1], s=100, c=\"g\")\n",
    "        plt.scatter(X[:, 0], X[:, 1], c=color)\n",
    "        X1, X2 = np.meshgrid(np.linspace(0, 7, 20), np.linspace(-5, 10, 20))\n",
    "        X = np.array([[x1, x2] for x1, x2 in zip(np.ravel(X1), np.ravel(X2))])\n",
    "        Z = self.project(X).reshape(X1.shape)\n",
    "        plt.contour(X1, X2, Z, [0.0], colors='k', linewidths=1, origin='lower')\n",
    "        plt.contour(X1, X2, Z + 1, [0.0], colors='grey', linewidths=1,origin='lower')\n",
    "        plt.contour(X1, X2, Z - 1, [0.0], colors='grey', linewidths=1,origin='lower')\n",
    "        plt.show()\n"
   ]
  },
  {
   "cell_type": "code",
   "execution_count": 50,
   "id": "bab01dfb",
   "metadata": {},
   "outputs": [
    {
     "data": {
      "text/html": [
       "<div>\n",
       "<style scoped>\n",
       "    .dataframe tbody tr th:only-of-type {\n",
       "        vertical-align: middle;\n",
       "    }\n",
       "\n",
       "    .dataframe tbody tr th {\n",
       "        vertical-align: top;\n",
       "    }\n",
       "\n",
       "    .dataframe thead th {\n",
       "        text-align: right;\n",
       "    }\n",
       "</style>\n",
       "<table border=\"1\" class=\"dataframe\">\n",
       "  <thead>\n",
       "    <tr style=\"text-align: right;\">\n",
       "      <th></th>\n",
       "      <th>x1</th>\n",
       "      <th>x2</th>\n",
       "      <th>y</th>\n",
       "    </tr>\n",
       "  </thead>\n",
       "  <tbody>\n",
       "    <tr>\n",
       "      <th>0</th>\n",
       "      <td>0</td>\n",
       "      <td>0</td>\n",
       "      <td>0</td>\n",
       "    </tr>\n",
       "    <tr>\n",
       "      <th>1</th>\n",
       "      <td>0</td>\n",
       "      <td>1</td>\n",
       "      <td>0</td>\n",
       "    </tr>\n",
       "    <tr>\n",
       "      <th>2</th>\n",
       "      <td>1</td>\n",
       "      <td>0</td>\n",
       "      <td>0</td>\n",
       "    </tr>\n",
       "    <tr>\n",
       "      <th>3</th>\n",
       "      <td>1</td>\n",
       "      <td>1</td>\n",
       "      <td>1</td>\n",
       "    </tr>\n",
       "  </tbody>\n",
       "</table>\n",
       "</div>"
      ],
      "text/plain": [
       "   x1  x2  y\n",
       "0   0   0  0\n",
       "1   0   1  0\n",
       "2   1   0  0\n",
       "3   1   1  1"
      ]
     },
     "execution_count": 50,
     "metadata": {},
     "output_type": "execute_result"
    }
   ],
   "source": [
    "#And Gate with two inputs x1,x2\n",
    "And = pd.DataFrame([[0, 0, 0], [0, 1, 0], [1, 0, 0], [1, 1, 1]])\n",
    "And.columns = ['x1','x2','y']\n",
    "X = np.array(And.loc[:,['x1','x2']])\n",
    "y = np.array(And.loc[:,'y'])\n",
    "And"
   ]
  },
  {
   "cell_type": "code",
   "execution_count": 51,
   "id": "local-worth",
   "metadata": {},
   "outputs": [
    {
     "name": "stdout",
     "output_type": "stream",
     "text": [
      "3 support vectors out of 4 points\n",
      "\n",
      "Accuracy: 1.0\n",
      "\n",
      "Classifier Details\n",
      "Alpha: [2.00000036 2.00000036 4.000001  ]\n",
      "Bias: -3.00000085163083\n",
      "Weights: [2.00000064 2.00000064]\n",
      "Center Margin Equation: 2.000000638723123 x1 + 2.000000638723123 x2 +-3.00000085163083 = 0\n",
      "Support vectors: [[0 1]\n",
      " [1 0]\n",
      " [1 1]]\n",
      "\n"
     ]
    },
    {
     "data": {
      "image/png": "[encoded data removed]",
      "text/plain": [
       "<Figure size 432x288 with 1 Axes>"
      ]
     },
     "metadata": {
      "needs_background": "light"
     },
     "output_type": "display_data"
    }
   ],
   "source": [
    "y = np.where(y <= 0, -1, 1)\n",
    "svm = SVM()\n",
    "svm.fit(X, y)\n",
    "y_pred = svm.predict(X)\n",
    "print(f\"\\nAccuracy: {slp.accuracy(y, y_pred)}\\n\")\n",
    "print(svm)\n",
    "svm.plot_decision_boundary(X, y)"
   ]
  }
 ],
 "metadata": {
  "kernelspec": {
   "display_name": "Python 3",
   "language": "python",
   "name": "python3"
  },
  "language_info": {
   "codemirror_mode": {
    "name": "ipython",
    "version": 3
   },
   "file_extension": ".py",
   "mimetype": "text/x-python",
   "name": "python",
   "nbconvert_exporter": "python",
   "pygments_lexer": "ipython3",
   "version": "3.8.10"
  }
 },
 "nbformat": 4,
 "nbformat_minor": 5
}
